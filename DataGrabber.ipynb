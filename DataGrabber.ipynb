{
 "cells": [
  {
   "cell_type": "code",
   "execution_count": null,
   "metadata": {},
   "outputs": [],
   "source": [
    "import alpaca_trade_api as tradeapi\n",
    "import os\n",
    "import csv\n",
    "\n",
    "os.environ[\"APCA_API_BASE_URL\"] = \"https://paper-api.alpaca.markets\"\n",
    "api = tradeapi.REST('AKBHEJ0EK9IO98U9DB8K', 'xXdnDTWWyExwkL7jrwsIOiOawnfaUQKVSykMBNk7')\n",
    "account = api.get_account()\n",
    "#api.list_positions()\n",
    "\n",
    "storageLocation = \"./Data\"\n",
    "barTimeframe = \"1D\"  # 1Min, 5Min, 15Min, 1H, 1D\n",
    "assetsToDownload = [\"SPY\", \"MSFT\", \"AAPL\", \"NFLX\", \"DOW\", \"TSLA\"]\n",
    "\n",
    "iteratorPos = 0  # Tracks position in list of symbols to download\n",
    "assetListLen = len(assetsToDownload)\n",
    "while iteratorPos < assetListLen:\n",
    "    symbol = assetsToDownload[iteratorPos]\n",
    "\n",
    "    dataFile = \"\"\n",
    "    lastDate = \"2013-00-00T00:00:00.000Z\"  # ISO8601 Date\n",
    "\n",
    "    # Verifies if symbol file exists\n",
    "    try:  # If file exists, reads the time of the last bar\n",
    "        dataFile = open(storageLocation + '{0}.csv'.format(symbol), 'a+')\n",
    "        lastDate = list(csv.DictReader(dataFile))[-1][\"time\"]\n",
    "    except:  # If not, initialises new CSV file\n",
    "        dataFile = open(storageLocation + '{0}.csv'.format(symbol), 'w')\n",
    "        dataFile.write(\"time,open,high,low,close,volume\\n\")\n",
    "\n",
    "    returned_data = api.get_barset(symbol, barTimeframe, start=lastDate)\n",
    "\n",
    "    # Reads, formats and stores the new bars\n",
    "    for bar in returned_data:\n",
    "        print(bar)\n",
    "\n",
    "        ret_time = str(bar.)\n",
    "        ret_open = str(bar.open)\n",
    "        ret_high = str(bar.high)\n",
    "        ret_low = str(bar.low)\n",
    "        ret_close = str(bar.close)\n",
    "        ret_volume = str(bar.volume)\n",
    "\n",
    "\n",
    "        # Writes formatted line to CSV file\n",
    "        dataFile.write(ret_time + \",\" + ret_open + \",\" + ret_high + \",\" + ret_low + \",\" + ret_close + \",\" + ret_volume)\n",
    "\n",
    "    dataFile.close()\n",
    "\n",
    "    iteratorPos += 1"
   ]
  }
 ],
 "metadata": {
  "kernelspec": {
   "display_name": "Python 3",
   "language": "python",
   "name": "python3"
  },
  "language_info": {
   "codemirror_mode": {
    "name": "ipython",
    "version": 3
   },
   "file_extension": ".py",
   "mimetype": "text/x-python",
   "name": "python",
   "nbconvert_exporter": "python",
   "pygments_lexer": "ipython3",
   "version": "3.7.3"
  }
 },
 "nbformat": 4,
 "nbformat_minor": 2
}
